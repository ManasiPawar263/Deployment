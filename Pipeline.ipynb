{
 "cells": [
  {
   "cell_type": "code",
   "execution_count": 11,
   "id": "9c70d7ce",
   "metadata": {
    "ExecuteTime": {
     "end_time": "2023-02-27T04:50:20.257077Z",
     "start_time": "2023-02-27T04:50:20.233113Z"
    }
   },
   "outputs": [],
   "source": [
    "# Import libraries\n",
    "\n",
    "import pandas as pd\n",
    "from sklearn.compose import ColumnTransformer\n",
    "from sklearn.preprocessing import OrdinalEncoder, OneHotEncoder\n",
    "from sklearn.preprocessing import StandardScaler\n",
    "from sklearn.pipeline import Pipeline, make_pipeline\n",
    "from sklearn.ensemble import GradientBoostingRegressor"
   ]
  },
  {
   "cell_type": "code",
   "execution_count": 2,
   "id": "a7ab2cba",
   "metadata": {
    "ExecuteTime": {
     "end_time": "2023-02-27T04:33:05.085589Z",
     "start_time": "2023-02-27T04:33:05.068687Z"
    }
   },
   "outputs": [],
   "source": [
    "from sklearn import set_config\n",
    "\n",
    "set_config(display = 'diagram')"
   ]
  },
  {
   "cell_type": "code",
   "execution_count": 5,
   "id": "13bc800f",
   "metadata": {
    "ExecuteTime": {
     "end_time": "2023-02-27T04:37:04.523636Z",
     "start_time": "2023-02-27T04:37:04.471457Z"
    }
   },
   "outputs": [
    {
     "data": {
      "text/html": [
       "<div>\n",
       "<style scoped>\n",
       "    .dataframe tbody tr th:only-of-type {\n",
       "        vertical-align: middle;\n",
       "    }\n",
       "\n",
       "    .dataframe tbody tr th {\n",
       "        vertical-align: top;\n",
       "    }\n",
       "\n",
       "    .dataframe thead th {\n",
       "        text-align: right;\n",
       "    }\n",
       "</style>\n",
       "<table border=\"1\" class=\"dataframe\">\n",
       "  <thead>\n",
       "    <tr style=\"text-align: right;\">\n",
       "      <th></th>\n",
       "      <th>age</th>\n",
       "      <th>gender</th>\n",
       "      <th>bmi</th>\n",
       "      <th>smoker</th>\n",
       "      <th>claim</th>\n",
       "    </tr>\n",
       "  </thead>\n",
       "  <tbody>\n",
       "    <tr>\n",
       "      <th>0</th>\n",
       "      <td>39.0</td>\n",
       "      <td>male</td>\n",
       "      <td>23.2</td>\n",
       "      <td>No</td>\n",
       "      <td>1121.87</td>\n",
       "    </tr>\n",
       "    <tr>\n",
       "      <th>1</th>\n",
       "      <td>24.0</td>\n",
       "      <td>male</td>\n",
       "      <td>30.1</td>\n",
       "      <td>No</td>\n",
       "      <td>1131.51</td>\n",
       "    </tr>\n",
       "    <tr>\n",
       "      <th>2</th>\n",
       "      <td>38.0</td>\n",
       "      <td>male</td>\n",
       "      <td>33.3</td>\n",
       "      <td>No</td>\n",
       "      <td>1135.94</td>\n",
       "    </tr>\n",
       "    <tr>\n",
       "      <th>3</th>\n",
       "      <td>38.0</td>\n",
       "      <td>male</td>\n",
       "      <td>33.7</td>\n",
       "      <td>No</td>\n",
       "      <td>1136.40</td>\n",
       "    </tr>\n",
       "    <tr>\n",
       "      <th>4</th>\n",
       "      <td>38.0</td>\n",
       "      <td>male</td>\n",
       "      <td>34.1</td>\n",
       "      <td>No</td>\n",
       "      <td>1137.01</td>\n",
       "    </tr>\n",
       "  </tbody>\n",
       "</table>\n",
       "</div>"
      ],
      "text/plain": [
       "    age gender   bmi smoker    claim\n",
       "0  39.0   male  23.2     No  1121.87\n",
       "1  24.0   male  30.1     No  1131.51\n",
       "2  38.0   male  33.3     No  1135.94\n",
       "3  38.0   male  33.7     No  1136.40\n",
       "4  38.0   male  34.1     No  1137.01"
      ]
     },
     "execution_count": 5,
     "metadata": {},
     "output_type": "execute_result"
    }
   ],
   "source": [
    "df = pd.read_csv('claim.csv', index_col = 0)\n",
    "df.head()"
   ]
  },
  {
   "cell_type": "code",
   "execution_count": 14,
   "id": "f746ec21",
   "metadata": {
    "ExecuteTime": {
     "end_time": "2023-02-27T04:54:18.065490Z",
     "start_time": "2023-02-27T04:54:18.041495Z"
    }
   },
   "outputs": [],
   "source": [
    "transformer = ColumnTransformer(transformers = [\n",
    "    ('tnf1', OneHotEncoder(sparse = False, handle_unknown = 'ignore'), [1,3]),\n",
    "    ('tnf2', StandardScaler(), [0,2])\n",
    "], remainder = 'passthrough')"
   ]
  },
  {
   "cell_type": "code",
   "execution_count": 15,
   "id": "91f32a63",
   "metadata": {
    "ExecuteTime": {
     "end_time": "2023-02-27T04:54:22.398778Z",
     "start_time": "2023-02-27T04:54:22.376161Z"
    }
   },
   "outputs": [],
   "source": [
    "from sklearn.model_selection import train_test_split"
   ]
  },
  {
   "cell_type": "code",
   "execution_count": 16,
   "id": "26e960de",
   "metadata": {
    "ExecuteTime": {
     "end_time": "2023-02-27T04:54:29.684444Z",
     "start_time": "2023-02-27T04:54:29.660555Z"
    }
   },
   "outputs": [],
   "source": [
    "xtrain, xtest, ytrain, ytest = train_test_split(df.drop(columns = ['claim']), df['claim'], test_size = 0.2, random_state = 1)"
   ]
  },
  {
   "cell_type": "code",
   "execution_count": 17,
   "id": "83179541",
   "metadata": {
    "ExecuteTime": {
     "end_time": "2023-02-27T04:54:33.474717Z",
     "start_time": "2023-02-27T04:54:33.458336Z"
    }
   },
   "outputs": [],
   "source": [
    "model = Pipeline(steps = [('transformer', transformer), ('model', GradientBoostingRegressor())])"
   ]
  },
  {
   "cell_type": "code",
   "execution_count": 18,
   "id": "12001629",
   "metadata": {
    "ExecuteTime": {
     "end_time": "2023-02-27T04:54:37.131628Z",
     "start_time": "2023-02-27T04:54:36.906922Z"
    }
   },
   "outputs": [
    {
     "data": {
      "text/html": [
       "<style>#sk-2aecf22e-5e05-498b-b9ee-52fcef35098c {color: black;background-color: white;}#sk-2aecf22e-5e05-498b-b9ee-52fcef35098c pre{padding: 0;}#sk-2aecf22e-5e05-498b-b9ee-52fcef35098c div.sk-toggleable {background-color: white;}#sk-2aecf22e-5e05-498b-b9ee-52fcef35098c label.sk-toggleable__label {cursor: pointer;display: block;width: 100%;margin-bottom: 0;padding: 0.3em;box-sizing: border-box;text-align: center;}#sk-2aecf22e-5e05-498b-b9ee-52fcef35098c label.sk-toggleable__label-arrow:before {content: \"▸\";float: left;margin-right: 0.25em;color: #696969;}#sk-2aecf22e-5e05-498b-b9ee-52fcef35098c label.sk-toggleable__label-arrow:hover:before {color: black;}#sk-2aecf22e-5e05-498b-b9ee-52fcef35098c div.sk-estimator:hover label.sk-toggleable__label-arrow:before {color: black;}#sk-2aecf22e-5e05-498b-b9ee-52fcef35098c div.sk-toggleable__content {max-height: 0;max-width: 0;overflow: hidden;text-align: left;background-color: #f0f8ff;}#sk-2aecf22e-5e05-498b-b9ee-52fcef35098c div.sk-toggleable__content pre {margin: 0.2em;color: black;border-radius: 0.25em;background-color: #f0f8ff;}#sk-2aecf22e-5e05-498b-b9ee-52fcef35098c input.sk-toggleable__control:checked~div.sk-toggleable__content {max-height: 200px;max-width: 100%;overflow: auto;}#sk-2aecf22e-5e05-498b-b9ee-52fcef35098c input.sk-toggleable__control:checked~label.sk-toggleable__label-arrow:before {content: \"▾\";}#sk-2aecf22e-5e05-498b-b9ee-52fcef35098c div.sk-estimator input.sk-toggleable__control:checked~label.sk-toggleable__label {background-color: #d4ebff;}#sk-2aecf22e-5e05-498b-b9ee-52fcef35098c div.sk-label input.sk-toggleable__control:checked~label.sk-toggleable__label {background-color: #d4ebff;}#sk-2aecf22e-5e05-498b-b9ee-52fcef35098c input.sk-hidden--visually {border: 0;clip: rect(1px 1px 1px 1px);clip: rect(1px, 1px, 1px, 1px);height: 1px;margin: -1px;overflow: hidden;padding: 0;position: absolute;width: 1px;}#sk-2aecf22e-5e05-498b-b9ee-52fcef35098c div.sk-estimator {font-family: monospace;background-color: #f0f8ff;border: 1px dotted black;border-radius: 0.25em;box-sizing: border-box;margin-bottom: 0.5em;}#sk-2aecf22e-5e05-498b-b9ee-52fcef35098c div.sk-estimator:hover {background-color: #d4ebff;}#sk-2aecf22e-5e05-498b-b9ee-52fcef35098c div.sk-parallel-item::after {content: \"\";width: 100%;border-bottom: 1px solid gray;flex-grow: 1;}#sk-2aecf22e-5e05-498b-b9ee-52fcef35098c div.sk-label:hover label.sk-toggleable__label {background-color: #d4ebff;}#sk-2aecf22e-5e05-498b-b9ee-52fcef35098c div.sk-serial::before {content: \"\";position: absolute;border-left: 1px solid gray;box-sizing: border-box;top: 2em;bottom: 0;left: 50%;}#sk-2aecf22e-5e05-498b-b9ee-52fcef35098c div.sk-serial {display: flex;flex-direction: column;align-items: center;background-color: white;padding-right: 0.2em;padding-left: 0.2em;}#sk-2aecf22e-5e05-498b-b9ee-52fcef35098c div.sk-item {z-index: 1;}#sk-2aecf22e-5e05-498b-b9ee-52fcef35098c div.sk-parallel {display: flex;align-items: stretch;justify-content: center;background-color: white;}#sk-2aecf22e-5e05-498b-b9ee-52fcef35098c div.sk-parallel::before {content: \"\";position: absolute;border-left: 1px solid gray;box-sizing: border-box;top: 2em;bottom: 0;left: 50%;}#sk-2aecf22e-5e05-498b-b9ee-52fcef35098c div.sk-parallel-item {display: flex;flex-direction: column;position: relative;background-color: white;}#sk-2aecf22e-5e05-498b-b9ee-52fcef35098c div.sk-parallel-item:first-child::after {align-self: flex-end;width: 50%;}#sk-2aecf22e-5e05-498b-b9ee-52fcef35098c div.sk-parallel-item:last-child::after {align-self: flex-start;width: 50%;}#sk-2aecf22e-5e05-498b-b9ee-52fcef35098c div.sk-parallel-item:only-child::after {width: 0;}#sk-2aecf22e-5e05-498b-b9ee-52fcef35098c div.sk-dashed-wrapped {border: 1px dashed gray;margin: 0 0.4em 0.5em 0.4em;box-sizing: border-box;padding-bottom: 0.4em;background-color: white;position: relative;}#sk-2aecf22e-5e05-498b-b9ee-52fcef35098c div.sk-label label {font-family: monospace;font-weight: bold;background-color: white;display: inline-block;line-height: 1.2em;}#sk-2aecf22e-5e05-498b-b9ee-52fcef35098c div.sk-label-container {position: relative;z-index: 2;text-align: center;}#sk-2aecf22e-5e05-498b-b9ee-52fcef35098c div.sk-container {/* jupyter's `normalize.less` sets `[hidden] { display: none; }` but bootstrap.min.css set `[hidden] { display: none !important; }` so we also need the `!important` here to be able to override the default hidden behavior on the sphinx rendered scikit-learn.org. See: https://github.com/scikit-learn/scikit-learn/issues/21755 */display: inline-block !important;position: relative;}#sk-2aecf22e-5e05-498b-b9ee-52fcef35098c div.sk-text-repr-fallback {display: none;}</style><div id=\"sk-2aecf22e-5e05-498b-b9ee-52fcef35098c\" class=\"sk-top-container\"><div class=\"sk-text-repr-fallback\"><pre>Pipeline(steps=[(&#x27;transformer&#x27;,\n",
       "                 ColumnTransformer(remainder=&#x27;passthrough&#x27;,\n",
       "                                   transformers=[(&#x27;tnf1&#x27;,\n",
       "                                                  OneHotEncoder(handle_unknown=&#x27;ignore&#x27;,\n",
       "                                                                sparse=False),\n",
       "                                                  [1, 3]),\n",
       "                                                 (&#x27;tnf2&#x27;, StandardScaler(),\n",
       "                                                  [0, 2])])),\n",
       "                (&#x27;model&#x27;, GradientBoostingRegressor())])</pre><b>Please rerun this cell to show the HTML repr or trust the notebook.</b></div><div class=\"sk-container\" hidden><div class=\"sk-item sk-dashed-wrapped\"><div class=\"sk-label-container\"><div class=\"sk-label sk-toggleable\"><input class=\"sk-toggleable__control sk-hidden--visually\" id=\"8f189aa7-ed00-4038-a2ac-1c4914defc85\" type=\"checkbox\" ><label for=\"8f189aa7-ed00-4038-a2ac-1c4914defc85\" class=\"sk-toggleable__label sk-toggleable__label-arrow\">Pipeline</label><div class=\"sk-toggleable__content\"><pre>Pipeline(steps=[(&#x27;transformer&#x27;,\n",
       "                 ColumnTransformer(remainder=&#x27;passthrough&#x27;,\n",
       "                                   transformers=[(&#x27;tnf1&#x27;,\n",
       "                                                  OneHotEncoder(handle_unknown=&#x27;ignore&#x27;,\n",
       "                                                                sparse=False),\n",
       "                                                  [1, 3]),\n",
       "                                                 (&#x27;tnf2&#x27;, StandardScaler(),\n",
       "                                                  [0, 2])])),\n",
       "                (&#x27;model&#x27;, GradientBoostingRegressor())])</pre></div></div></div><div class=\"sk-serial\"><div class=\"sk-item sk-dashed-wrapped\"><div class=\"sk-label-container\"><div class=\"sk-label sk-toggleable\"><input class=\"sk-toggleable__control sk-hidden--visually\" id=\"e44a1803-b6ac-496b-ba56-4e201495f27e\" type=\"checkbox\" ><label for=\"e44a1803-b6ac-496b-ba56-4e201495f27e\" class=\"sk-toggleable__label sk-toggleable__label-arrow\">transformer: ColumnTransformer</label><div class=\"sk-toggleable__content\"><pre>ColumnTransformer(remainder=&#x27;passthrough&#x27;,\n",
       "                  transformers=[(&#x27;tnf1&#x27;,\n",
       "                                 OneHotEncoder(handle_unknown=&#x27;ignore&#x27;,\n",
       "                                               sparse=False),\n",
       "                                 [1, 3]),\n",
       "                                (&#x27;tnf2&#x27;, StandardScaler(), [0, 2])])</pre></div></div></div><div class=\"sk-parallel\"><div class=\"sk-parallel-item\"><div class=\"sk-item\"><div class=\"sk-label-container\"><div class=\"sk-label sk-toggleable\"><input class=\"sk-toggleable__control sk-hidden--visually\" id=\"348be803-6591-4e1a-afd4-c6d203176db4\" type=\"checkbox\" ><label for=\"348be803-6591-4e1a-afd4-c6d203176db4\" class=\"sk-toggleable__label sk-toggleable__label-arrow\">tnf1</label><div class=\"sk-toggleable__content\"><pre>[1, 3]</pre></div></div></div><div class=\"sk-serial\"><div class=\"sk-item\"><div class=\"sk-estimator sk-toggleable\"><input class=\"sk-toggleable__control sk-hidden--visually\" id=\"56c5dacc-479a-49dc-869c-eac1822e3e9a\" type=\"checkbox\" ><label for=\"56c5dacc-479a-49dc-869c-eac1822e3e9a\" class=\"sk-toggleable__label sk-toggleable__label-arrow\">OneHotEncoder</label><div class=\"sk-toggleable__content\"><pre>OneHotEncoder(handle_unknown=&#x27;ignore&#x27;, sparse=False)</pre></div></div></div></div></div></div><div class=\"sk-parallel-item\"><div class=\"sk-item\"><div class=\"sk-label-container\"><div class=\"sk-label sk-toggleable\"><input class=\"sk-toggleable__control sk-hidden--visually\" id=\"66adee24-fd67-4e1f-993b-ca25fe6cc693\" type=\"checkbox\" ><label for=\"66adee24-fd67-4e1f-993b-ca25fe6cc693\" class=\"sk-toggleable__label sk-toggleable__label-arrow\">tnf2</label><div class=\"sk-toggleable__content\"><pre>[0, 2]</pre></div></div></div><div class=\"sk-serial\"><div class=\"sk-item\"><div class=\"sk-estimator sk-toggleable\"><input class=\"sk-toggleable__control sk-hidden--visually\" id=\"22520d45-8ff7-414e-8578-862fc4595f83\" type=\"checkbox\" ><label for=\"22520d45-8ff7-414e-8578-862fc4595f83\" class=\"sk-toggleable__label sk-toggleable__label-arrow\">StandardScaler</label><div class=\"sk-toggleable__content\"><pre>StandardScaler()</pre></div></div></div></div></div></div><div class=\"sk-parallel-item\"><div class=\"sk-item\"><div class=\"sk-label-container\"><div class=\"sk-label sk-toggleable\"><input class=\"sk-toggleable__control sk-hidden--visually\" id=\"60e7de21-cd29-4490-9d7b-cd5b9e3ae92f\" type=\"checkbox\" ><label for=\"60e7de21-cd29-4490-9d7b-cd5b9e3ae92f\" class=\"sk-toggleable__label sk-toggleable__label-arrow\">remainder</label><div class=\"sk-toggleable__content\"><pre>[]</pre></div></div></div><div class=\"sk-serial\"><div class=\"sk-item\"><div class=\"sk-estimator sk-toggleable\"><input class=\"sk-toggleable__control sk-hidden--visually\" id=\"68f0781a-d4d8-4cd7-b9d3-a2c6a5837fee\" type=\"checkbox\" ><label for=\"68f0781a-d4d8-4cd7-b9d3-a2c6a5837fee\" class=\"sk-toggleable__label sk-toggleable__label-arrow\">passthrough</label><div class=\"sk-toggleable__content\"><pre>passthrough</pre></div></div></div></div></div></div></div></div><div class=\"sk-item\"><div class=\"sk-estimator sk-toggleable\"><input class=\"sk-toggleable__control sk-hidden--visually\" id=\"f04ca5e6-dc7c-4368-b1c3-819402e507ac\" type=\"checkbox\" ><label for=\"f04ca5e6-dc7c-4368-b1c3-819402e507ac\" class=\"sk-toggleable__label sk-toggleable__label-arrow\">GradientBoostingRegressor</label><div class=\"sk-toggleable__content\"><pre>GradientBoostingRegressor()</pre></div></div></div></div></div></div></div>"
      ],
      "text/plain": [
       "Pipeline(steps=[('transformer',\n",
       "                 ColumnTransformer(remainder='passthrough',\n",
       "                                   transformers=[('tnf1',\n",
       "                                                  OneHotEncoder(handle_unknown='ignore',\n",
       "                                                                sparse=False),\n",
       "                                                  [1, 3]),\n",
       "                                                 ('tnf2', StandardScaler(),\n",
       "                                                  [0, 2])])),\n",
       "                ('model', GradientBoostingRegressor())])"
      ]
     },
     "execution_count": 18,
     "metadata": {},
     "output_type": "execute_result"
    }
   ],
   "source": [
    "model.fit(xtrain, ytrain)"
   ]
  },
  {
   "cell_type": "code",
   "execution_count": 19,
   "id": "1fbd6fde",
   "metadata": {
    "ExecuteTime": {
     "end_time": "2023-02-27T04:55:46.280651Z",
     "start_time": "2023-02-27T04:55:46.250521Z"
    }
   },
   "outputs": [],
   "source": [
    "ypred = model.predict(xtest)"
   ]
  },
  {
   "cell_type": "code",
   "execution_count": 20,
   "id": "c093086b",
   "metadata": {
    "ExecuteTime": {
     "end_time": "2023-02-27T04:56:01.481211Z",
     "start_time": "2023-02-27T04:56:01.463382Z"
    }
   },
   "outputs": [
    {
     "data": {
      "text/plain": [
       "array([ 8474.66681044,  9114.83897362, 20211.74662864,  7830.66498743,\n",
       "        8237.84367411,  9419.52620348,  8581.76516069, 11166.23322075,\n",
       "        8518.54929479,  9194.92556964,  6528.75735523,  7649.69079832,\n",
       "       21888.65677857,  9884.67005443,  9195.23083876,  9734.82609214,\n",
       "        8518.54929479,  6401.06958498, 11113.2130072 ,  8381.85189449,\n",
       "        8933.70146608,  8713.19407018,  7478.14745035,  7952.4282894 ,\n",
       "       10463.38474658,  8097.07111022,  6554.7278558 ,  8581.13256833,\n",
       "        7716.25184446,  8062.56863242,  8332.52598254,  8342.66036698,\n",
       "        8114.79314794,  8056.84928602, 19134.1321477 ,  7664.61256797,\n",
       "        7932.71429586,  6833.99322765,  9920.16568291, 20530.5806324 ,\n",
       "        6856.06275868,  8645.25184076,  9041.76746077,  9702.79492119,\n",
       "        5093.08538377,  7382.95662653,  6746.19195409,  7070.18630872,\n",
       "        7295.6416097 ,  9711.87697251,  7226.89241219,  8651.67512912,\n",
       "        7712.7784904 , 41349.275564  , 25282.14481665,  7087.23702708,\n",
       "       19351.5120526 ,  9601.85090786, 45023.91136996,  9038.93288175,\n",
       "        9590.49463635,  6651.98946931, 38812.97069711,  7326.88442058,\n",
       "        9281.03035925, 19057.23399915,  7264.97506712,  8219.94800826,\n",
       "       24717.34457105,  9969.04650121, 42529.41960848,  9529.71270207,\n",
       "        8109.76020809, 39405.44529452,  9969.08956809,  7661.65093959,\n",
       "        9253.12180518, 12715.86529274,  8097.07111022,  8353.54636192,\n",
       "        8920.20708556, 10433.57902046,  9941.50197242, 10595.22375911,\n",
       "        7697.65172348,  8264.40223262, 44952.26620385,  8219.08542205,\n",
       "       39162.61865276,  8327.67050004,  8993.75578755,  7674.16262465,\n",
       "        7951.06848219,  4873.42905385, 21327.04970321,  8711.74190738,\n",
       "        7315.37506455,  8694.2288473 ,  9643.70252589, 10012.93900871,\n",
       "       11472.43138831,  7648.32581152,  9771.77085561,  8646.5660795 ,\n",
       "        7993.62220037,  8644.6948575 ,  8518.54929479,  7021.19313762,\n",
       "        6707.36806584, 20994.83045955, 38560.77823749,  8556.50985699,\n",
       "        7115.65714678,  6481.67354941, 10433.3364931 ,  7610.14470421,\n",
       "       10266.65777748, 23342.70430207, 41449.76252908, 22488.07262882,\n",
       "        8920.20708556,  8933.70146608,  9260.3498527 ,  7651.96144149,\n",
       "        8009.62713463,  8559.28893288,  7996.06735175,  9590.49463635,\n",
       "        6641.55862888, 10409.05936723,  7830.66498743,  6918.83815005,\n",
       "       18447.08715203, 40383.80963947,  7957.88624444, 39580.27621413,\n",
       "        6902.31626186,  8122.88313413, 22550.36322695,  7478.14745035,\n",
       "       10384.01058115,  9195.23083876,  9001.58297412, 10965.22627813,\n",
       "        7948.05567854, 20143.4550687 ,  8568.35320784,  7909.46590679,\n",
       "        7577.6107262 ,  8920.20708556,  8725.23148739,  7638.26554574,\n",
       "        9078.35023152,  9237.19081654, 10012.93900871,  7948.05567854,\n",
       "        6984.18312424, 24891.50949429,  8872.19541234,  6563.21877133,\n",
       "       22854.47955407,  7813.61862691,  8486.06539623, 43567.88525247,\n",
       "        9388.7879914 ,  9908.42617239,  6904.8089639 ,  7657.22828691,\n",
       "        6613.47294443,  8166.43154148, 12532.52536644,  8944.92483334,\n",
       "        9243.39478444,  8584.04104714,  7675.67770449,  9108.44528543,\n",
       "        9691.50502092,  8920.20708556, 39072.20582644,  8920.20708556,\n",
       "        9688.92450497,  5688.98120497,  9470.09891212,  8537.84098901,\n",
       "       39599.90416971,  7632.85769258,  6477.98659634, 25014.19213572,\n",
       "       10086.41431737,  8329.36365078,  8058.22253287, 42784.43676706,\n",
       "        7996.06735175,  9480.87013592, 10197.27003131,  8930.77036457,\n",
       "        9429.0948956 , 10595.22375911,  8858.36440243,  7108.28931657,\n",
       "        8930.64195225,  9094.24685065, 19121.67314286,  8164.11905989,\n",
       "       40031.95004804,  8935.8368356 ,  8920.20708556,  9702.79492119,\n",
       "        9252.08874435,  7192.53246867, 24652.61946018,  7955.49648874,\n",
       "        7561.57401572, 20800.97014595,  8880.3815573 ,  7264.0660544 ,\n",
       "       41600.05832594, 23521.89642817,  7938.7485976 , 23137.74588928,\n",
       "       24310.95674359,  9260.3498527 ,  3465.51655875, 10775.60013623,\n",
       "        8226.0610571 ,  9711.05388342, 43367.77766322,  8581.13256833,\n",
       "        7349.60571532,  8739.06957801,  6388.82760989,  7290.70586325,\n",
       "        9821.98337237,  9969.04650121, 22007.5307317 ,  8373.03841572,\n",
       "       25079.62741396, 11220.27454135,  7809.55620371, 10849.92133453,\n",
       "        7439.13618723,  9590.49463635,  9555.86850173, 24915.11250831,\n",
       "        8848.50152133,  8329.36365078,  8169.07472159, 25014.19213572,\n",
       "        9095.34691982,  8711.74190738,  6028.62059021,  9619.55109975,\n",
       "        8315.0205191 ,  8584.04104714,  8839.64450651,  8860.96631671,\n",
       "        8292.71821373,  8597.24016754,  9431.79684197,  8725.49917959,\n",
       "        8015.40631513,  8332.52598254,  8623.85306611,  8747.8956612 ,\n",
       "        5901.24120166,  8980.93377685,  8415.96318255,  9614.96089703])"
      ]
     },
     "execution_count": 20,
     "metadata": {},
     "output_type": "execute_result"
    }
   ],
   "source": [
    "ypred"
   ]
  },
  {
   "cell_type": "code",
   "execution_count": 21,
   "id": "d7c592d8",
   "metadata": {
    "ExecuteTime": {
     "end_time": "2023-02-27T04:57:13.777030Z",
     "start_time": "2023-02-27T04:57:13.747199Z"
    }
   },
   "outputs": [],
   "source": [
    "import pickle\n",
    "\n",
    "pickle.dump(model, open('model.pkl', 'wb'))"
   ]
  }
 ],
 "metadata": {
  "kernelspec": {
   "display_name": "Python 3 (ipykernel)",
   "language": "python",
   "name": "python3"
  },
  "language_info": {
   "codemirror_mode": {
    "name": "ipython",
    "version": 3
   },
   "file_extension": ".py",
   "mimetype": "text/x-python",
   "name": "python",
   "nbconvert_exporter": "python",
   "pygments_lexer": "ipython3",
   "version": "3.9.13"
  }
 },
 "nbformat": 4,
 "nbformat_minor": 5
}
